{
 "cells": [
  {
   "cell_type": "markdown",
   "metadata": {},
   "source": [
    "## Build a container"
   ]
  },
  {
   "cell_type": "code",
   "execution_count": 1,
   "metadata": {},
   "outputs": [
    {
     "name": "stdout",
     "output_type": "stream",
     "text": [
      "WARNING! Your password will be stored unencrypted in /home/ec2-user/.docker/config.json.\n",
      "Configure a credential helper to remove this warning. See\n",
      "https://docs.docker.com/engine/reference/commandline/login/#credentials-store\n",
      "\n",
      "Login Succeeded\n",
      "WARNING! Your password will be stored unencrypted in /home/ec2-user/.docker/config.json.\n",
      "Configure a credential helper to remove this warning. See\n",
      "https://docs.docker.com/engine/reference/commandline/login/#credentials-store\n",
      "\n",
      "Login Succeeded\n"
     ]
    }
   ],
   "source": [
    "# loging to Sagemaker ECR with Deep Learning Containers\n",
    "!aws ecr get-login-password --region us-east-2 | docker login --username AWS --password-stdin 763104351884.dkr.ecr.us-east-2.amazonaws.com\n",
    "# loging to your private ECR\n",
    "!aws ecr get-login-password --region us-east-2 | docker login --username AWS --password-stdin 553020858742.dkr.ecr.us-east-2.amazonaws.com"
   ]
  },
  {
   "cell_type": "code",
   "execution_count": 8,
   "metadata": {},
   "outputs": [
    {
     "name": "stdout",
     "output_type": "stream",
     "text": [
      "WARNING! Using --password via the CLI is insecure. Use --password-stdin.\n",
      "WARNING! Your password will be stored unencrypted in /home/ec2-user/.docker/config.json.\n",
      "Configure a credential helper to remove this warning. See\n",
      "https://docs.docker.com/engine/reference/commandline/login/#credentials-store\n",
      "\n",
      "Login Succeeded\n",
      "Sending build context to Docker daemon    254kB\n",
      "Step 1/9 : FROM 763104351884.dkr.ecr.us-east-2.amazonaws.com/mxnet-training:1.6.0-gpu-py27-cu101-ubuntu16.04\n",
      " ---> b71ed7961e4b\n",
      "Step 2/9 : LABEL author=\"vadimd@amazon.com\"\n",
      " ---> Using cache\n",
      " ---> ae83d91b7381\n",
      "Step 3/9 : COPY container_training /opt/ml/code\n",
      " ---> bd0197fdcdee\n",
      "Step 4/9 : WORKDIR /opt/ml/code\n",
      " ---> Running in 1fa1b3e4da76\n",
      "Removing intermediate container 1fa1b3e4da76\n",
      " ---> 44d8c31384bf\n",
      "Step 5/9 : ENV SAGEMAKER_SUBMIT_DIRECTORY /opt/ml/code\n",
      " ---> Running in c8ddcc557e87\n",
      "Removing intermediate container c8ddcc557e87\n",
      " ---> f8bbc4afa450\n",
      "Step 6/9 : ENV SAGEMAKER_PROGRAM hvd_launcher.py\n",
      " ---> Running in 97807f679de1\n",
      "Removing intermediate container 97807f679de1\n",
      " ---> 900e99d7e572\n",
      "Step 7/9 : RUN pip install gluoncv\n",
      " ---> Running in 53fabf57352e\n",
      "\u001b[91mDEPRECATION: Python 2.7 will reach the end of its life on January 1st, 2020. Please upgrade your Python as Python 2.7 won't be maintained after that date. A future version of pip will drop support for Python 2.7. More details about Python 2 support in pip, can be found at https://pip.pypa.io/en/latest/development/release-process/#python-2-support\n",
      "\u001b[0mCollecting gluoncv\n",
      "  Downloading https://files.pythonhosted.org/packages/fa/81/37a00609cb53da3671adb106b9bc03fb1c029ad5a8db4bc668283e65703d/gluoncv-0.7.0-py2.py3-none-any.whl (752kB)\n",
      "Collecting portalocker\n",
      "  Downloading https://files.pythonhosted.org/packages/53/84/7b3146ec6378d28abc73ab484f09f47dfa008ad6f03f33d90a369f880e25/portalocker-1.7.0-py2.py3-none-any.whl\n",
      "Collecting tqdm\n",
      "  Downloading https://files.pythonhosted.org/packages/c9/40/058b12e8ba10e35f89c9b1fdfc2d4c7f8c05947df2d5eb3c7b258019fda0/tqdm-4.46.0-py2.py3-none-any.whl (63kB)\n",
      "Requirement already satisfied: Pillow in /usr/local/lib/python2.7/dist-packages (from gluoncv) (6.2.2)\n",
      "Collecting matplotlib\n",
      "  Downloading https://files.pythonhosted.org/packages/9d/40/5ba7d4a3f80d39d409f21899972596bf62c8606f1406a825029649eaa439/matplotlib-2.2.5-cp27-cp27mu-manylinux1_x86_64.whl (12.8MB)\n",
      "Requirement already satisfied: scipy in /usr/local/lib/python2.7/dist-packages (from gluoncv) (1.2.2)\n",
      "Requirement already satisfied: numpy in /usr/local/lib/python2.7/dist-packages (from gluoncv) (1.16.5)\n",
      "Requirement already satisfied: requests in /usr/local/lib/python2.7/dist-packages (from gluoncv) (2.22.0)\n",
      "Collecting pyparsing!=2.0.4,!=2.1.2,!=2.1.6,>=2.0.1\n",
      "  Downloading https://files.pythonhosted.org/packages/8a/bb/488841f56197b13700afd5658fc279a2025a39e22449b7cf29864669b15d/pyparsing-2.4.7-py2.py3-none-any.whl (67kB)\n",
      "Collecting backports.functools-lru-cache\n",
      "  Downloading https://files.pythonhosted.org/packages/da/d1/080d2bb13773803648281a49e3918f65b31b7beebf009887a529357fd44a/backports.functools_lru_cache-1.6.1-py2.py3-none-any.whl\n",
      "Collecting subprocess32\n",
      "  Downloading https://files.pythonhosted.org/packages/32/c8/564be4d12629b912ea431f1a50eb8b3b9d00f1a0b1ceff17f266be190007/subprocess32-3.5.4.tar.gz (97kB)\n",
      "Requirement already satisfied: pytz in /usr/local/lib/python2.7/dist-packages (from matplotlib->gluoncv) (2019.3)\n",
      "Requirement already satisfied: six>=1.10 in /usr/local/lib/python2.7/dist-packages (from matplotlib->gluoncv) (1.14.0)\n",
      "Requirement already satisfied: python-dateutil>=2.1 in /usr/local/lib/python2.7/dist-packages (from matplotlib->gluoncv) (2.8.0)\n",
      "Collecting kiwisolver>=1.0.1\n",
      "  Downloading https://files.pythonhosted.org/packages/3d/78/cb9248b2289ec31e301137cedbe4ca503a74ca87f88cdbfd2f8be52323bf/kiwisolver-1.1.0-cp27-cp27mu-manylinux1_x86_64.whl (93kB)\n",
      "Collecting cycler>=0.10\n",
      "  Downloading https://files.pythonhosted.org/packages/f7/d2/e07d3ebb2bd7af696440ce7e754c59dd546ffe1bbe732c8ab68b9c834e61/cycler-0.10.0-py2.py3-none-any.whl\n",
      "Requirement already satisfied: urllib3!=1.25.0,!=1.25.1,<1.26,>=1.21.1 in /usr/local/lib/python2.7/dist-packages (from requests->gluoncv) (1.25.8)\n",
      "Requirement already satisfied: certifi>=2017.4.17 in /usr/local/lib/python2.7/dist-packages (from requests->gluoncv) (2019.11.28)\n",
      "Requirement already satisfied: chardet<3.1.0,>=3.0.2 in /usr/local/lib/python2.7/dist-packages (from requests->gluoncv) (3.0.4)\n",
      "Requirement already satisfied: idna<2.9,>=2.5 in /usr/local/lib/python2.7/dist-packages (from requests->gluoncv) (2.8)\n",
      "Requirement already satisfied: setuptools in /usr/local/lib/python2.7/dist-packages (from kiwisolver>=1.0.1->matplotlib->gluoncv) (44.1.0)\n",
      "Installing collected packages: portalocker, tqdm, pyparsing, backports.functools-lru-cache, subprocess32, kiwisolver, cycler, matplotlib, gluoncv\n",
      "    Running setup.py install for subprocess32: started\n",
      "    Running setup.py install for subprocess32: finished with status 'done'\n",
      "Successfully installed backports.functools-lru-cache-1.6.1 cycler-0.10.0 gluoncv-0.7.0 kiwisolver-1.1.0 matplotlib-2.2.5 portalocker-1.7.0 pyparsing-2.4.7 subprocess32-3.5.4 tqdm-4.46.0\n",
      "\u001b[91mWARNING: You are using pip version 19.3.1; however, version 20.1.1 is available.\n",
      "You should consider upgrading via the 'pip install --upgrade pip' command.\n",
      "\u001b[0mRemoving intermediate container 53fabf57352e\n",
      " ---> ecafffe69d2c\n",
      "Step 8/9 : RUN mkdir -p /var/run/sshd &&   sed 's@session\\s*required\\s*pam_loginuid.so@session optional pam_loginuid.so@g' -i /etc/pam.d/sshd\n",
      " ---> Running in f76d12f38668\n",
      "Removing intermediate container f76d12f38668\n",
      " ---> ef3dc2b6f274\n",
      "Step 9/9 : RUN rm -rf /root/.ssh/ &&   mkdir -p /root/.ssh/ &&   ssh-keygen -q -t rsa -N '' -f /root/.ssh/id_rsa &&   cp /root/.ssh/id_rsa.pub /root/.ssh/authorized_keys\n",
      " ---> Running in 1ae14d853967\n",
      "Removing intermediate container 1ae14d853967\n",
      " ---> 3e42c916f5d4\n",
      "Successfully built 3e42c916f5d4\n",
      "Successfully tagged mxnet-distributed:latest\n",
      "The push refers to repository [553020858742.dkr.ecr.us-east-2.amazonaws.com/mxnet-distributed]\n",
      "\n",
      "\u001b[1B861e6605: Preparing \n",
      "\u001b[1B92fe3c42: Preparing \n",
      "\u001b[1B02c87c8e: Preparing \n",
      "\u001b[1B96770a73: Preparing \n",
      "\u001b[1B64d8d29c: Preparing \n",
      "\u001b[1B48f3c3c3: Preparing \n",
      "\u001b[1Bba4172c5: Preparing \n",
      "\u001b[1Bccbc4e99: Preparing \n",
      "\u001b[1B85fe2567: Preparing \n",
      "\u001b[1Bb108d965: Preparing \n",
      "\u001b[1B04dfda5f: Preparing \n",
      "\u001b[1B307535d5: Preparing \n",
      "\u001b[1Bac606ee7: Preparing \n",
      "\u001b[1B6fd37676: Preparing \n",
      "\u001b[1B11ca120e: Preparing \n",
      "\u001b[1B560baa9a: Preparing \n",
      "\u001b[1B8f03dd4b: Preparing \n",
      "\u001b[1Bf70aaf95: Preparing \n",
      "\u001b[1B39aaf404: Preparing \n",
      "\u001b[1B9333c486: Preparing \n",
      "\u001b[15Ba4172c5: Waiting g \n",
      "\u001b[12B4dfda5f: Waiting g \n",
      "\u001b[1B7fbd6c92: Preparing \n",
      "\u001b[17Bcbc4e99: Waiting g \n",
      "\u001b[23B2c87c8e: Pushed   54.43MB/53.15MB\u001b[20A\u001b[1K\u001b[K\u001b[18A\u001b[1K\u001b[K\u001b[17A\u001b[1K\u001b[K\u001b[16A\u001b[1K\u001b[K\u001b[14A\u001b[1K\u001b[K\u001b[25A\u001b[1K\u001b[K\u001b[22A\u001b[1K\u001b[K\u001b[6A\u001b[1K\u001b[K\u001b[23A\u001b[1K\u001b[K\u001b[23A\u001b[1K\u001b[K\u001b[23A\u001b[1K\u001b[K\u001b[23A\u001b[1K\u001b[K\u001b[23A\u001b[1K\u001b[K\u001b[23A\u001b[1K\u001b[K\u001b[23A\u001b[1K\u001b[K\u001b[23A\u001b[1K\u001b[K\u001b[23A\u001b[1K\u001b[K\u001b[23A\u001b[1K\u001b[K\u001b[23A\u001b[1K\u001b[K\u001b[23A\u001b[1K\u001b[K\u001b[23A\u001b[1K\u001b[K\u001b[23A\u001b[1K\u001b[K\u001b[23A\u001b[1K\u001b[K\u001b[23A\u001b[1K\u001b[K\u001b[23A\u001b[1K\u001b[K\u001b[23A\u001b[1K\u001b[K\u001b[23A\u001b[1K\u001b[K\u001b[23A\u001b[1K\u001b[K\u001b[23A\u001b[1K\u001b[K\u001b[23A\u001b[1K\u001b[K\u001b[23A\u001b[1K\u001b[K\u001b[23A\u001b[1K\u001b[K\u001b[23A\u001b[1K\u001b[K\u001b[23A\u001b[1K\u001b[Klatest: digest: sha256:cd45d6461fa94c4386e9c8e448b10009e914c2efbfa9270e513842c313911a90 size: 5549\n"
     ]
    }
   ],
   "source": [
    "! ./build_and_push.sh mxnet-distributed latest"
   ]
  },
  {
   "cell_type": "markdown",
   "metadata": {},
   "source": [
    "## Define common parameters"
   ]
  },
  {
   "cell_type": "code",
   "execution_count": 3,
   "metadata": {},
   "outputs": [],
   "source": [
    "# Define IAM role\n",
    "import boto3\n",
    "import re\n",
    "\n",
    "import os\n",
    "import numpy as np\n",
    "import pandas as pd\n",
    "from sagemaker import get_execution_role\n",
    "from sagemaker.mxnet import MXNet\n",
    "import sagemaker\n",
    "\n",
    "role = get_execution_role()"
   ]
  },
  {
   "cell_type": "code",
   "execution_count": 4,
   "metadata": {},
   "outputs": [],
   "source": [
    "import sagemaker\n",
    "from time import gmtime, strftime\n",
    "\n",
    "sess = sagemaker.LocalSession() # can use LocalSession() to run container locally\n",
    "\n",
    "bucket = sess.default_bucket()\n",
    "region = \"us-east-2\"\n",
    "account = sess.boto_session.client('sts').get_caller_identity()['Account']\n",
    "prefix_input = 'mxnet-distr-input'\n",
    "prefix_output = 'mxnet-distr-ouput'"
   ]
  },
  {
   "cell_type": "code",
   "execution_count": 5,
   "metadata": {},
   "outputs": [
    {
     "name": "stdout",
     "output_type": "stream",
     "text": [
      "Following Sagemaker container will be used for training:  553020858742.dkr.ecr.us-east-2.amazonaws.com/mxnet-distributed:latest\n"
     ]
    }
   ],
   "source": [
    "container = \"mxnet-distributed\" # your container name\n",
    "tag = \"latest\"\n",
    "image = '{}.dkr.ecr.{}.amazonaws.com/{}:{}'.format(account, region, container, tag)\n",
    "\n",
    "print(\"Following Sagemaker container will be used for training: \", image)"
   ]
  },
  {
   "cell_type": "markdown",
   "metadata": {},
   "source": [
    "## Review training script"
   ]
  },
  {
   "cell_type": "code",
   "execution_count": null,
   "metadata": {},
   "outputs": [],
   "source": [
    "! pygmentize training_sources/hvd_launcher.py"
   ]
  },
  {
   "cell_type": "code",
   "execution_count": null,
   "metadata": {},
   "outputs": [],
   "source": [
    "! pygmentize training_sources/distributed_mnist.py"
   ]
  },
  {
   "cell_type": "markdown",
   "metadata": {},
   "source": [
    "## Local training"
   ]
  },
  {
   "cell_type": "code",
   "execution_count": 6,
   "metadata": {},
   "outputs": [],
   "source": [
    "hyperparameters = {\n",
    "    \"train-script\" : \"/opt/ml/code/distributed_mnist.py\",\n",
    "    \"local\" : \"false\"\n",
    "    # Below you can add args which will passed directly to training script\n",
    "}"
   ]
  },
  {
   "cell_type": "code",
   "execution_count": null,
   "metadata": {},
   "outputs": [
    {
     "name": "stdout",
     "output_type": "stream",
     "text": [
      "2020-05-30 16:29:22 Starting - Starting the training job...\n",
      "2020-05-30 16:29:24 Starting - Launching requested ML instances.........\n",
      "2020-05-30 16:30:59 Starting - Preparing the instances for training...."
     ]
    }
   ],
   "source": [
    "est = sagemaker.estimator.Estimator(image,\n",
    "                                    role=role,\n",
    "                                    train_instance_count=2,\n",
    "                                    train_instance_type='ml.p3.16xlarge',\n",
    "#                                     train_instance_type='local_gpu',\n",
    "                                    sagemaker_session = sagemaker.Session(),\n",
    "                                    hyperparameters = hyperparameters\n",
    "                                   )\n",
    "\n",
    "est.fit(wait=True)"
   ]
  },
  {
   "cell_type": "code",
   "execution_count": null,
   "metadata": {},
   "outputs": [],
   "source": []
  },
  {
   "cell_type": "code",
   "execution_count": null,
   "metadata": {},
   "outputs": [],
   "source": []
  }
 ],
 "metadata": {
  "kernelspec": {
   "display_name": "conda_amazonei_mxnet_p36",
   "language": "python",
   "name": "conda_amazonei_mxnet_p36"
  },
  "language_info": {
   "codemirror_mode": {
    "name": "ipython",
    "version": 3
   },
   "file_extension": ".py",
   "mimetype": "text/x-python",
   "name": "python",
   "nbconvert_exporter": "python",
   "pygments_lexer": "ipython3",
   "version": "3.6.5"
  }
 },
 "nbformat": 4,
 "nbformat_minor": 4
}
