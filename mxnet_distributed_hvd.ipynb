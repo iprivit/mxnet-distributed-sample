{
 "cells": [
  {
   "cell_type": "markdown",
   "metadata": {},
   "source": [
    "## Build custom container for distributed training with Horovod and MXNet\n",
    "\n",
    "Sagemaker provides a pre-built Deep Learning containers for serving and training tasks. These containers come with installed and configured software such as python packages, NVIDIA drivers and toolkits etc. We'll use [training image with MXNet 1.6, py3, and CUDA 10.1](https://github.com/aws/sagemaker-mxnet-container/blob/master/docker/1.6.0/py3/Dockerfile.gpu) as the base image. Additionally, we will copy training code, define required Sagemaker, and configure ssh communication.\n"
   ]
  },
  {
   "cell_type": "code",
   "execution_count": 2,
   "metadata": {},
   "outputs": [
    {
     "name": "stdout",
     "output_type": "stream",
     "text": [
      "\u001b[37m# Base image: https://github.com/aws/sagemaker-mxnet-container/blob/master/docker/1.6.0/py3/Dockerfile.gpu\u001b[39;49;00m\n",
      "\u001b[34mFROM\u001b[39;49;00m\u001b[33m 763104351884.dkr.ecr.us-east-2.amazonaws.com/mxnet-training:1.6.0-gpu-py36-cu101-ubuntu16.04\u001b[39;49;00m\n",
      "LABEL \u001b[31mauthor\u001b[39;49;00m=\u001b[33m\"vadimd@amazon.com\"\u001b[39;49;00m\n",
      "\n",
      "\u001b[34mRUN\u001b[39;49;00m pip install gluoncv\n",
      "\n",
      "\u001b[37m########### Sagemaker setup ##########\u001b[39;49;00m\n",
      "COPY container_training /opt/ml/code\n",
      "\u001b[34mWORKDIR\u001b[39;49;00m\u001b[33m /opt/ml/code\u001b[39;49;00m\n",
      "\n",
      "\u001b[34mENV\u001b[39;49;00m\u001b[33m SAGEMAKER_SUBMIT_DIRECTORY /opt/ml/code\u001b[39;49;00m\n",
      "\u001b[34mENV\u001b[39;49;00m\u001b[33m SAGEMAKER_PROGRAM hvd_launcher.py\u001b[39;49;00m\n",
      "\n",
      "\u001b[37m########### OpenSHH Config for MPI ##########\u001b[39;49;00m\n",
      "\u001b[34mRUN\u001b[39;49;00m mkdir -p /var/run/sshd && \u001b[33m\\\u001b[39;49;00m\n",
      "  sed \u001b[33m's@session\\s*required\\s*pam_loginuid.so@session optional pam_loginuid.so@g'\u001b[39;49;00m -i /etc/pam.d/sshd\n",
      "\n",
      "\u001b[34mRUN\u001b[39;49;00m rm -rf /root/.ssh/ && \u001b[33m\\\u001b[39;49;00m\n",
      "  mkdir -p /root/.ssh/ && \u001b[33m\\\u001b[39;49;00m\n",
      "  ssh-keygen -q -t rsa -N \u001b[33m''\u001b[39;49;00m -f /root/.ssh/id_rsa && \u001b[33m\\\u001b[39;49;00m\n",
      "  cp /root/.ssh/id_rsa.pub /root/.ssh/authorized_keys\n"
     ]
    }
   ],
   "source": [
    "! pygmentize Dockerfile"
   ]
  },
  {
   "cell_type": "markdown",
   "metadata": {},
   "source": [
    "Execute cells bellow to loging to remote ECR (which hosts base image) and private ECR where training container will be pushed to."
   ]
  },
  {
   "cell_type": "code",
   "execution_count": null,
   "metadata": {},
   "outputs": [],
   "source": [
    "# loging to Sagemaker ECR with Deep Learning Containers\n",
    "!aws ecr get-login-password --region us-east-2 | docker login --username AWS --password-stdin 763104351884.dkr.ecr.us-east-2.amazonaws.com\n",
    "# loging to your private ECR\n",
    "!aws ecr get-login-password --region us-east-2 | docker login --username AWS --password-stdin 553020858742.dkr.ecr.us-east-2.amazonaws.com"
   ]
  },
  {
   "cell_type": "markdown",
   "metadata": {},
   "source": [
    "Now let's build and push custom container for MXNet distributed training."
   ]
  },
  {
   "cell_type": "code",
   "execution_count": null,
   "metadata": {},
   "outputs": [],
   "source": [
    "! ./build_and_push.sh mxnet-distributed latest"
   ]
  },
  {
   "cell_type": "markdown",
   "metadata": {},
   "source": [
    "## Define common parameters"
   ]
  },
  {
   "cell_type": "markdown",
   "metadata": {},
   "source": [
    "Execute cells below to do necessary imports and basic configuration of Sagemaker training job"
   ]
  },
  {
   "cell_type": "code",
   "execution_count": 5,
   "metadata": {},
   "outputs": [],
   "source": [
    "# Define IAM role\n",
    "import boto3\n",
    "import re\n",
    "\n",
    "import os\n",
    "import numpy as np\n",
    "import pandas as pd\n",
    "from sagemaker import get_execution_role\n",
    "from sagemaker.mxnet import MXNet\n",
    "import sagemaker\n",
    "\n",
    "role = get_execution_role()"
   ]
  },
  {
   "cell_type": "code",
   "execution_count": 6,
   "metadata": {},
   "outputs": [],
   "source": [
    "import sagemaker\n",
    "from time import gmtime, strftime\n",
    "\n",
    "sess = sagemaker.Session() # can use LocalSession() to run container locally\n",
    "\n",
    "bucket = sess.default_bucket()\n",
    "region = \"us-east-2\"\n",
    "account = sess.boto_session.client('sts').get_caller_identity()['Account']\n",
    "prefix_input = 'mxnet-distr-input'\n",
    "prefix_output = 'mxnet-distr-ouput'"
   ]
  },
  {
   "cell_type": "code",
   "execution_count": 7,
   "metadata": {},
   "outputs": [
    {
     "name": "stdout",
     "output_type": "stream",
     "text": [
      "Following Sagemaker container will be used for training:  553020858742.dkr.ecr.us-east-2.amazonaws.com/mxnet-distributed:latest\n"
     ]
    }
   ],
   "source": [
    "container = \"mxnet-distributed\" # your container name\n",
    "tag = \"latest\"\n",
    "image = '{}.dkr.ecr.{}.amazonaws.com/{}:{}'.format(account, region, container, tag)\n",
    "\n",
    "print(\"Following Sagemaker container will be used for training: \", image)"
   ]
  },
  {
   "cell_type": "markdown",
   "metadata": {},
   "source": [
    "## Review training sources\n",
    "\n",
    "There are two scripts in container_training folders which will be copied to training container:\n",
    "- `hvd_launcher.py` captures configuration of Sagemaker training cluster and spawns training processes on MPI cluster. Sagemaker starts training by running command like this on all training nodes: `python hvd_lancher.py -train_script value1 -train_param1 value1 ...`\n",
    "- `distributed_mnist.py` is actual training script which uses Horovod classes to coordinate training processes across multiple nodes. You can add another training script in `container_training` folder and provide its name in `train-script` Sagemaker hyperparameter."
   ]
  },
  {
   "cell_type": "code",
   "execution_count": null,
   "metadata": {},
   "outputs": [],
   "source": [
    "! pygmentize container_training/hvd_launcher.py"
   ]
  },
  {
   "cell_type": "code",
   "execution_count": null,
   "metadata": {},
   "outputs": [],
   "source": [
    "! pygmentize container_training/distributed_mnist.py"
   ]
  },
  {
   "cell_type": "markdown",
   "metadata": {},
   "source": [
    "## Start training job\n",
    "\n",
    "Define hyperparameters of training hob. Note, that `train-script` param define training script which will be executed on Horovod distirbuted cluster. Additionally, you can also define any parameters of your training script."
   ]
  },
  {
   "cell_type": "code",
   "execution_count": 3,
   "metadata": {},
   "outputs": [],
   "source": [
    "hyperparameters = {\n",
    "    \"train-script\" : \"distributed_mnist.py\",\n",
    "    \n",
    "    # Below you can add args which will passed directly to training script\n",
    "    \"epochs\" : 60, \n",
    "    \"batch-size\" : 32\n",
    "}"
   ]
  },
  {
   "cell_type": "code",
   "execution_count": 8,
   "metadata": {},
   "outputs": [],
   "source": [
    "est = sagemaker.estimator.Estimator(image,\n",
    "                                    role=role,\n",
    "                                    train_instance_count=2,\n",
    "                                    train_instance_type='ml.p3.16xlarge',\n",
    "#                                     train_instance_type='local_gpu',\n",
    "                                    sagemaker_session = sess,\n",
    "                                    hyperparameters = hyperparameters\n",
    "                                   )\n",
    "\n",
    "est.fit(wait=False)"
   ]
  }
 ],
 "metadata": {
  "kernelspec": {
   "display_name": "conda_mxnet_p27",
   "language": "python",
   "name": "conda_mxnet_p27"
  },
  "language_info": {
   "codemirror_mode": {
    "name": "ipython",
    "version": 3
   },
   "file_extension": ".py",
   "mimetype": "text/x-python",
   "name": "python",
   "nbconvert_exporter": "python",
   "pygments_lexer": "ipython3",
   "version": "3.6.5"
  }
 },
 "nbformat": 4,
 "nbformat_minor": 4
}
